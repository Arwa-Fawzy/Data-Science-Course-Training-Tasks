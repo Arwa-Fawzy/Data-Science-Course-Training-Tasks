{
 "cells": [
  {
   "cell_type": "markdown",
   "id": "8761957e",
   "metadata": {},
   "source": [
    "## Data exploration with cleaning:\n",
    "### 1. Dataframe info.\n",
    "### 2. Check and remove duplicated values\n",
    "### 3. Check and handle Null values\n",
    "### 4. Investigate Outliers"
   ]
  },
  {
   "cell_type": "code",
   "execution_count": 118,
   "id": "ff944f8f",
   "metadata": {},
   "outputs": [],
   "source": [
    "#import important Libraries\n",
    "import pandas as pd\n",
    "import numpy as np\n",
    "import matplotlib.pyplot as plt\n",
    "import seaborn as sns"
   ]
  },
  {
   "cell_type": "code",
   "execution_count": 119,
   "id": "3ae4592f",
   "metadata": {
    "scrolled": true
   },
   "outputs": [
    {
     "data": {
      "text/html": [
       "<div>\n",
       "<style scoped>\n",
       "    .dataframe tbody tr th:only-of-type {\n",
       "        vertical-align: middle;\n",
       "    }\n",
       "\n",
       "    .dataframe tbody tr th {\n",
       "        vertical-align: top;\n",
       "    }\n",
       "\n",
       "    .dataframe thead th {\n",
       "        text-align: right;\n",
       "    }\n",
       "</style>\n",
       "<table border=\"1\" class=\"dataframe\">\n",
       "  <thead>\n",
       "    <tr style=\"text-align: right;\">\n",
       "      <th></th>\n",
       "      <th>PatientId</th>\n",
       "      <th>AppointmentID</th>\n",
       "      <th>Gender</th>\n",
       "      <th>ScheduledDay</th>\n",
       "      <th>AppointmentDay</th>\n",
       "      <th>Age</th>\n",
       "      <th>Neighbourhood</th>\n",
       "      <th>Scholarship</th>\n",
       "      <th>Hipertension</th>\n",
       "      <th>Diabetes</th>\n",
       "      <th>Alcoholism</th>\n",
       "      <th>Handcap</th>\n",
       "      <th>SMS_received</th>\n",
       "      <th>No-show</th>\n",
       "    </tr>\n",
       "  </thead>\n",
       "  <tbody>\n",
       "    <tr>\n",
       "      <th>0</th>\n",
       "      <td>2.987250e+13</td>\n",
       "      <td>5642903</td>\n",
       "      <td>F</td>\n",
       "      <td>2016-04-29T18:38:08Z</td>\n",
       "      <td>2016-04-29T00:00:00Z</td>\n",
       "      <td>62</td>\n",
       "      <td>JARDIM DA PENHA</td>\n",
       "      <td>0</td>\n",
       "      <td>1</td>\n",
       "      <td>0</td>\n",
       "      <td>0</td>\n",
       "      <td>0</td>\n",
       "      <td>0</td>\n",
       "      <td>No</td>\n",
       "    </tr>\n",
       "    <tr>\n",
       "      <th>1</th>\n",
       "      <td>5.589978e+14</td>\n",
       "      <td>5642503</td>\n",
       "      <td>M</td>\n",
       "      <td>2016-04-29T16:08:27Z</td>\n",
       "      <td>2016-04-29T00:00:00Z</td>\n",
       "      <td>56</td>\n",
       "      <td>JARDIM DA PENHA</td>\n",
       "      <td>0</td>\n",
       "      <td>0</td>\n",
       "      <td>0</td>\n",
       "      <td>0</td>\n",
       "      <td>0</td>\n",
       "      <td>0</td>\n",
       "      <td>No</td>\n",
       "    </tr>\n",
       "    <tr>\n",
       "      <th>2</th>\n",
       "      <td>4.262962e+12</td>\n",
       "      <td>5642549</td>\n",
       "      <td>F</td>\n",
       "      <td>2016-04-29T16:19:04Z</td>\n",
       "      <td>2016-04-29T00:00:00Z</td>\n",
       "      <td>62</td>\n",
       "      <td>MATA DA PRAIA</td>\n",
       "      <td>0</td>\n",
       "      <td>0</td>\n",
       "      <td>0</td>\n",
       "      <td>0</td>\n",
       "      <td>0</td>\n",
       "      <td>0</td>\n",
       "      <td>No</td>\n",
       "    </tr>\n",
       "    <tr>\n",
       "      <th>3</th>\n",
       "      <td>8.679512e+11</td>\n",
       "      <td>5642828</td>\n",
       "      <td>F</td>\n",
       "      <td>2016-04-29T17:29:31Z</td>\n",
       "      <td>2016-04-29T00:00:00Z</td>\n",
       "      <td>8</td>\n",
       "      <td>PONTAL DE CAMBURI</td>\n",
       "      <td>0</td>\n",
       "      <td>0</td>\n",
       "      <td>0</td>\n",
       "      <td>0</td>\n",
       "      <td>0</td>\n",
       "      <td>0</td>\n",
       "      <td>No</td>\n",
       "    </tr>\n",
       "    <tr>\n",
       "      <th>4</th>\n",
       "      <td>8.841186e+12</td>\n",
       "      <td>5642494</td>\n",
       "      <td>F</td>\n",
       "      <td>2016-04-29T16:07:23Z</td>\n",
       "      <td>2016-04-29T00:00:00Z</td>\n",
       "      <td>56</td>\n",
       "      <td>JARDIM DA PENHA</td>\n",
       "      <td>0</td>\n",
       "      <td>1</td>\n",
       "      <td>1</td>\n",
       "      <td>0</td>\n",
       "      <td>0</td>\n",
       "      <td>0</td>\n",
       "      <td>No</td>\n",
       "    </tr>\n",
       "  </tbody>\n",
       "</table>\n",
       "</div>"
      ],
      "text/plain": [
       "      PatientId  AppointmentID Gender          ScheduledDay  \\\n",
       "0  2.987250e+13        5642903      F  2016-04-29T18:38:08Z   \n",
       "1  5.589978e+14        5642503      M  2016-04-29T16:08:27Z   \n",
       "2  4.262962e+12        5642549      F  2016-04-29T16:19:04Z   \n",
       "3  8.679512e+11        5642828      F  2016-04-29T17:29:31Z   \n",
       "4  8.841186e+12        5642494      F  2016-04-29T16:07:23Z   \n",
       "\n",
       "         AppointmentDay  Age      Neighbourhood  Scholarship  Hipertension  \\\n",
       "0  2016-04-29T00:00:00Z   62    JARDIM DA PENHA            0             1   \n",
       "1  2016-04-29T00:00:00Z   56    JARDIM DA PENHA            0             0   \n",
       "2  2016-04-29T00:00:00Z   62      MATA DA PRAIA            0             0   \n",
       "3  2016-04-29T00:00:00Z    8  PONTAL DE CAMBURI            0             0   \n",
       "4  2016-04-29T00:00:00Z   56    JARDIM DA PENHA            0             1   \n",
       "\n",
       "   Diabetes  Alcoholism  Handcap  SMS_received No-show  \n",
       "0         0           0        0             0      No  \n",
       "1         0           0        0             0      No  \n",
       "2         0           0        0             0      No  \n",
       "3         0           0        0             0      No  \n",
       "4         1           0        0             0      No  "
      ]
     },
     "execution_count": 119,
     "metadata": {},
     "output_type": "execute_result"
    }
   ],
   "source": [
    "# Load the data. \n",
    "df = pd.read_csv('noshowappointments.csv')\n",
    "# showing the first 5 lines of the data\n",
    "df.head()"
   ]
  },
  {
   "cell_type": "code",
   "execution_count": 1,
   "id": "8af450ec",
   "metadata": {},
   "outputs": [],
   "source": [
    "# checking the info of the data (any issues to be handeled)"
   ]
  },
  {
   "cell_type": "code",
   "execution_count": 2,
   "id": "133e5a81",
   "metadata": {},
   "outputs": [],
   "source": [
    "#Check dtypes property in the DataFrame\n"
   ]
  },
  {
   "cell_type": "code",
   "execution_count": 3,
   "id": "df60db2b",
   "metadata": {},
   "outputs": [],
   "source": [
    "#number of columns and raws in data\n"
   ]
  },
  {
   "cell_type": "code",
   "execution_count": null,
   "id": "024bb824",
   "metadata": {},
   "outputs": [],
   "source": [
    "##Column names of Data frame"
   ]
  },
  {
   "cell_type": "code",
   "execution_count": null,
   "id": "83f25c8b",
   "metadata": {},
   "outputs": [],
   "source": [
    "#(Hipertension & No-show&Handcap) have to be corrected\n",
    "df.rename(columns = {'Hipertension': 'Hypertension',\n",
    "                'Handcap': 'Handicap','No-show':'No_show'}, inplace = True)"
   ]
  },
  {
   "cell_type": "markdown",
   "id": "b4cc8f5d",
   "metadata": {},
   "source": [
    "## Descriptive Statistics\n",
    "#### 1.mean \n",
    "#### 2.Var\n",
    "#### 3. Std\n",
    "#### 4. Median\n",
    "#### 5.Max & Min"
   ]
  },
  {
   "cell_type": "code",
   "execution_count": null,
   "id": "d15063cf",
   "metadata": {},
   "outputs": [],
   "source": [
    "#Summary for the data"
   ]
  },
  {
   "cell_type": "code",
   "execution_count": null,
   "id": "d0c1c2ed",
   "metadata": {},
   "outputs": [],
   "source": [
    "#Draw dist. of data "
   ]
  },
  {
   "cell_type": "code",
   "execution_count": null,
   "id": "589d93dd",
   "metadata": {},
   "outputs": [],
   "source": []
  },
  {
   "cell_type": "code",
   "execution_count": null,
   "id": "7ee11d37",
   "metadata": {},
   "outputs": [],
   "source": []
  },
  {
   "cell_type": "code",
   "execution_count": null,
   "id": "1605c0c1",
   "metadata": {},
   "outputs": [],
   "source": []
  },
  {
   "cell_type": "code",
   "execution_count": null,
   "id": "f82fb9be",
   "metadata": {},
   "outputs": [],
   "source": []
  },
  {
   "cell_type": "code",
   "execution_count": null,
   "id": "7aa2757c",
   "metadata": {},
   "outputs": [],
   "source": []
  },
  {
   "cell_type": "markdown",
   "id": "c809962b",
   "metadata": {},
   "source": [
    "## Data wrangling\n",
    "### is the process of removing errors and combining complex data sets to make them more accessible and easier to analyze."
   ]
  },
  {
   "cell_type": "markdown",
   "id": "65d4c3a0",
   "metadata": {},
   "source": [
    "### Looking for Data that need to be cleaned"
   ]
  },
  {
   "cell_type": "code",
   "execution_count": null,
   "id": "05c3db41",
   "metadata": {},
   "outputs": [],
   "source": [
    "#Checking for null values"
   ]
  },
  {
   "cell_type": "code",
   "execution_count": null,
   "id": "880f2dc5",
   "metadata": {},
   "outputs": [],
   "source": [
    "#find duplicate rows across all columns"
   ]
  },
  {
   "cell_type": "code",
   "execution_count": null,
   "id": "11a0827d",
   "metadata": {},
   "outputs": [],
   "source": [
    "# check the number of duplicated pateint IDs$No_show"
   ]
  },
  {
   "cell_type": "code",
   "execution_count": null,
   "id": "3cfcdf8d",
   "metadata": {},
   "outputs": [],
   "source": [
    "# create a boxplot of the age using seaborn"
   ]
  },
  {
   "cell_type": "markdown",
   "id": "44c1e6d8",
   "metadata": {},
   "source": [
    "## Convert AppointmentDay to datetime type"
   ]
  },
  {
   "cell_type": "markdown",
   "id": "b01f2573",
   "metadata": {},
   "source": [
    "## Data Exploration And Visualization"
   ]
  },
  {
   "cell_type": "markdown",
   "id": "acea46fb",
   "metadata": {},
   "source": [
    "### 1. What is the relation between gender and No. of pateints?"
   ]
  },
  {
   "cell_type": "code",
   "execution_count": 145,
   "id": "ae784b84",
   "metadata": {},
   "outputs": [
    {
     "data": {
      "image/png": "[encoded data removed]",
      "text/plain": [
       "<Figure size 640x480 with 1 Axes>"
      ]
     },
     "metadata": {},
     "output_type": "display_data"
    }
   ],
   "source": [
    "# plot a bar chart\n",
    "sns.countplot(data = df, x ='Gender')\n",
    "plt.title('Paitents Gender')\n",
    "#plt.xticks([0, 1], ['Female', 'Male'])\n",
    "plt.xlabel('Gender')\n",
    "plt.ylabel('Number of Patients');"
   ]
  },
  {
   "cell_type": "markdown",
   "id": "8816e90a",
   "metadata": {},
   "source": [
    "### 2. What is the relation between gender and Show or no show appointments?"
   ]
  },
  {
   "cell_type": "code",
   "execution_count": 146,
   "id": "e58c5378",
   "metadata": {},
   "outputs": [
    {
     "data": {
      "text/plain": [
       "No     88205\n",
       "Yes    22316\n",
       "Name: No_show, dtype: int64"
      ]
     },
     "execution_count": 146,
     "metadata": {},
     "output_type": "execute_result"
    }
   ],
   "source": [
    "# check value counts in no_show column\n",
    "df.No_show.value_counts()"
   ]
  },
  {
   "cell_type": "code",
   "execution_count": 147,
   "id": "749cfded",
   "metadata": {},
   "outputs": [
    {
     "data": {
      "text/plain": [
       "0    88205\n",
       "1    22316\n",
       "Name: No_show, dtype: int64"
      ]
     },
     "execution_count": 147,
     "metadata": {},
     "output_type": "execute_result"
    }
   ],
   "source": [
    "# NoShow column transformation\n",
    "# if the value Yes then change it to 1, otherwise 0\n",
    "df['No_show'].replace({'No': 0, 'Yes': 1}, inplace=True)\n",
    "# confirm\n",
    "df.No_show.value_counts()"
   ]
  },
  {
   "cell_type": "code",
   "execution_count": 148,
   "id": "e0e1fcb5",
   "metadata": {},
   "outputs": [
    {
     "data": {
      "text/plain": [
       "Text(0.5, 1.0, 'Paitents Show Status')"
      ]
     },
     "execution_count": 148,
     "metadata": {},
     "output_type": "execute_result"
    },
    {
     "data": {
      "image/png": "[encoded data removed]",
      "text/plain": [
       "<Figure size 640x480 with 1 Axes>"
      ]
     },
     "metadata": {},
     "output_type": "display_data"
    }
   ],
   "source": [
    "# plot a pie chart\n",
    "sorted_counts = df.No_show.value_counts()\n",
    "plt.pie(sorted_counts, labels = ['Show Up', 'No Show'], startangle = 90,\n",
    "        counterclock = False, autopct='%1.1f%%');\n",
    "plt.axis('square')\n",
    "plt.title('Paitents Show Status')"
   ]
  },
  {
   "cell_type": "markdown",
   "id": "c62e4bef",
   "metadata": {},
   "source": [
    "### 3. What is the relation between diabetes and age?"
   ]
  },
  {
   "cell_type": "code",
   "execution_count": 149,
   "id": "7466f3da",
   "metadata": {},
   "outputs": [
    {
     "data": {
      "image/png": "[encoded data removed]",
      "text/plain": [
       "<Figure size 640x480 with 1 Axes>"
      ]
     },
     "metadata": {},
     "output_type": "display_data"
    }
   ],
   "source": [
    "# age diabetes scatter with line fit\n",
    "# there are more people with diabetes among older patients\n",
    "diabetes_mean = df['Diabetes'].groupby(df['Age']).mean()\n",
    "ages = df['Age'].unique()\n",
    "sns.regplot(x = ages, y = diabetes_mean)\n",
    "plt.xlabel('Age')\n",
    "plt.show()"
   ]
  },
  {
   "cell_type": "markdown",
   "id": "93b11941",
   "metadata": {},
   "source": [
    "### 4. What is the distribution of age regarding count of appointments?"
   ]
  },
  {
   "cell_type": "code",
   "execution_count": 150,
   "id": "c20f2792",
   "metadata": {},
   "outputs": [
    {
     "data": {
      "image/png": "[encoded data removed]",
      "text/plain": [
       "<Figure size 640x480 with 1 Axes>"
      ]
     },
     "metadata": {},
     "output_type": "display_data"
    }
   ],
   "source": [
    "# age distribution\n",
    "# young people have many appointments, which could be because of a number of mandatory medical visits at that age\n",
    "g = df.Age.hist(bins=20);\n",
    "g.set(xlabel = 'Age', ylabel = 'Count of appointments', title = 'Age distribution')\n",
    "plt.show()"
   ]
  }
 ],
 "metadata": {
  "kernelspec": {
   "display_name": "Python 3 (ipykernel)",
   "language": "python",
   "name": "python3"
  },
  "language_info": {
   "codemirror_mode": {
    "name": "ipython",
    "version": 3
   },
   "file_extension": ".py",
   "mimetype": "text/x-python",
   "name": "python",
   "nbconvert_exporter": "python",
   "pygments_lexer": "ipython3",
   "version": "3.9.13"
  }
 },
 "nbformat": 4,
 "nbformat_minor": 5
}
