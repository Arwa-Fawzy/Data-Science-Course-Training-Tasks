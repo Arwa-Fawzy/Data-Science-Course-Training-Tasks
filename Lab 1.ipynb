{
 "cells": [
  {
   "cell_type": "code",
   "execution_count": 1,
   "id": "60957279",
   "metadata": {},
   "outputs": [],
   "source": [
    "# Import necessary packages\n",
    "import pandas as pd\n",
    "a=[15,6,8]"
   ]
  },
  {
   "cell_type": "code",
   "execution_count": 3,
   "id": "0bac2d5c",
   "metadata": {},
   "outputs": [
    {
     "name": "stdout",
     "output_type": "stream",
     "text": [
      "0    15\n",
      "1     6\n",
      "2     8\n",
      "dtype: int64\n"
     ]
    }
   ],
   "source": [
    "#know the difference between series and list \n",
    "print(pd.Series(a))"
   ]
  },
  {
   "cell_type": "code",
   "execution_count": 4,
   "id": "4d3255a3",
   "metadata": {},
   "outputs": [
    {
     "name": "stdout",
     "output_type": "stream",
     "text": [
      "x    15\n",
      "y     6\n",
      "z     8\n",
      "dtype: int64\n"
     ]
    }
   ],
   "source": [
    "print(pd.Series(a, index=[\"x\",\"y\",\"z\"]))"
   ]
  },
  {
   "cell_type": "code",
   "execution_count": 5,
   "id": "b8318094",
   "metadata": {},
   "outputs": [
    {
     "name": "stdout",
     "output_type": "stream",
     "text": [
      "a    12\n",
      "b    15\n",
      "c    16\n",
      "dtype: int64\n"
     ]
    }
   ],
   "source": [
    "c={'a':12,'b':15,'c':16}\n",
    "print(pd.Series(c))"
   ]
  },
  {
   "cell_type": "code",
   "execution_count": 9,
   "id": "83b638bd",
   "metadata": {},
   "outputs": [
    {
     "name": "stdout",
     "output_type": "stream",
     "text": [
      "a       [1, 2, 3]\n",
      "b       [4, 5, 6]\n",
      "c    [16, 13, 24]\n",
      "dtype: object\n"
     ]
    }
   ],
   "source": [
    "data={'a':[1,2,3],'b':[4,5,6],'c':[16,13,24]}\n",
    "print(pd.Series(c))"
   ]
  },
  {
   "cell_type": "code",
   "execution_count": 10,
   "id": "f3bf65ac",
   "metadata": {},
   "outputs": [
    {
     "name": "stdout",
     "output_type": "stream",
     "text": [
      "   a  b   c\n",
      "0  1  4  16\n",
      "1  2  5  13\n",
      "2  3  6  24\n"
     ]
    }
   ],
   "source": [
    "print(pd.DataFrame(data))"
   ]
  },
  {
   "cell_type": "code",
   "execution_count": 13,
   "id": "aa9fb3d6",
   "metadata": {},
   "outputs": [],
   "source": [
    "df=pd.read_csv('D:/CS/4th/data science/color_srgb.csv')"
   ]
  },
  {
   "cell_type": "code",
   "execution_count": 14,
   "id": "f774ccb4",
   "metadata": {},
   "outputs": [
    {
     "name": "stdout",
     "output_type": "stream",
     "text": [
      "       Name      HEX               RGB\n",
      "0     White  #FFFFFF  rgb(100,100,100)\n",
      "1    Silver  #C0C0C0     rgb(75,75,75)\n",
      "2      Gray  #808080     rgb(50,50,50)\n",
      "3     Black  #000000        rgb(0,0,0)\n",
      "4       Red  #FF0000      rgb(100,0,0)\n",
      "5    Maroon  #800000       rgb(50,0,0)\n",
      "6    Yellow  #FFFF00    rgb(100,100,0)\n",
      "7     Olive  #808000      rgb(50,50,0)\n",
      "8      Lime  #00FF00      rgb(0,100,0)\n",
      "9     Green  #008000       rgb(0,50,0)\n",
      "10     Aqua  #00FFFF    rgb(0,100,100)\n",
      "11     Teal  #008080      rgb(0,50,50)\n",
      "12     Blue  #0000FF      rgb(0,0,100)\n",
      "13     Navy  #000080       rgb(0,0,50)\n",
      "14  Fuchsia  #FF00FF    rgb(100,0,100)\n",
      "15   Purple  #800080      rgb(50,0,50)\n"
     ]
    }
   ],
   "source": [
    "print(df.to_string())"
   ]
  },
  {
   "cell_type": "code",
   "execution_count": 15,
   "id": "6681a484",
   "metadata": {},
   "outputs": [
    {
     "name": "stdout",
     "output_type": "stream",
     "text": [
      "     Name      HEX               RGB\n",
      "0   White  #FFFFFF  rgb(100,100,100)\n",
      "1  Silver  #C0C0C0     rgb(75,75,75)\n",
      "2    Gray  #808080     rgb(50,50,50)\n",
      "3   Black  #000000        rgb(0,0,0)\n",
      "4     Red  #FF0000      rgb(100,0,0)\n"
     ]
    }
   ],
   "source": [
    "print(df.head())"
   ]
  },
  {
   "cell_type": "code",
   "execution_count": 16,
   "id": "fd63d2fe",
   "metadata": {},
   "outputs": [
    {
     "name": "stdout",
     "output_type": "stream",
     "text": [
      "<class 'pandas.core.frame.DataFrame'>\n",
      "RangeIndex: 16 entries, 0 to 15\n",
      "Data columns (total 3 columns):\n",
      " #   Column  Non-Null Count  Dtype \n",
      "---  ------  --------------  ----- \n",
      " 0   Name    16 non-null     object\n",
      " 1   HEX     16 non-null     object\n",
      " 2   RGB     16 non-null     object\n",
      "dtypes: object(3)\n",
      "memory usage: 512.0+ bytes\n",
      "None\n"
     ]
    }
   ],
   "source": [
    "print(df.info())"
   ]
  },
  {
   "cell_type": "code",
   "execution_count": 17,
   "id": "50dde9ef",
   "metadata": {},
   "outputs": [
    {
     "name": "stdout",
     "output_type": "stream",
     "text": [
      "       Name      HEX               RGB\n",
      "0     White  #FFFFFF  rgb(100,100,100)\n",
      "1    Silver  #C0C0C0     rgb(75,75,75)\n",
      "2      Gray  #808080     rgb(50,50,50)\n",
      "3     Black  #000000        rgb(0,0,0)\n",
      "4       Red  #FF0000      rgb(100,0,0)\n",
      "5    Maroon  #800000       rgb(50,0,0)\n",
      "6    Yellow  #FFFF00    rgb(100,100,0)\n",
      "7     Olive  #808000      rgb(50,50,0)\n",
      "8      Lime  #00FF00      rgb(0,100,0)\n",
      "9     Green  #008000       rgb(0,50,0)\n",
      "10     Aqua  #00FFFF    rgb(0,100,100)\n",
      "11     Teal  #008080      rgb(0,50,50)\n",
      "12     Blue  #0000FF      rgb(0,0,100)\n",
      "13     Navy  #000080       rgb(0,0,50)\n",
      "14  Fuchsia  #FF00FF    rgb(100,0,100)\n",
      "15   Purple  #800080      rgb(50,0,50)\n"
     ]
    }
   ],
   "source": [
    "new_df=df.dropna()\n",
    "print(new_df.to_string())"
   ]
  },
  {
   "cell_type": "code",
   "execution_count": 19,
   "id": "a4611351",
   "metadata": {},
   "outputs": [
    {
     "name": "stdout",
     "output_type": "stream",
     "text": [
      "       Name      HEX               RGB\n",
      "0     White  #FFFFFF  rgb(100,100,100)\n",
      "1    Silver  #C0C0C0     rgb(75,75,75)\n",
      "2      Gray  #808080     rgb(50,50,50)\n",
      "3     Black  #000000        rgb(0,0,0)\n",
      "4       Red  #FF0000      rgb(100,0,0)\n",
      "5    Maroon  #800000       rgb(50,0,0)\n",
      "6    Yellow  #FFFF00    rgb(100,100,0)\n",
      "7     Olive  #808000      rgb(50,50,0)\n",
      "8      Lime  #00FF00      rgb(0,100,0)\n",
      "9     Green  #008000       rgb(0,50,0)\n",
      "10     Aqua  #00FFFF    rgb(0,100,100)\n",
      "11     Teal  #008080      rgb(0,50,50)\n",
      "12     Blue  #0000FF      rgb(0,0,100)\n",
      "13     Navy  #000080       rgb(0,0,50)\n",
      "14  Fuchsia  #FF00FF    rgb(100,0,100)\n",
      "15   Purple  #800080      rgb(50,0,50)\n"
     ]
    }
   ],
   "source": [
    "df.dropna(inplace=True)\n",
    "print(df.to_string())"
   ]
  },
  {
   "cell_type": "code",
   "execution_count": 20,
   "id": "d8aa95aa",
   "metadata": {},
   "outputs": [
    {
     "name": "stdout",
     "output_type": "stream",
     "text": [
      "       Name      HEX               RGB\n",
      "0     White  #FFFFFF  rgb(100,100,100)\n",
      "1    Silver  #C0C0C0     rgb(75,75,75)\n",
      "2      Gray  #808080     rgb(50,50,50)\n",
      "3     Black  #000000        rgb(0,0,0)\n",
      "4       Red  #FF0000      rgb(100,0,0)\n",
      "5    Maroon  #800000       rgb(50,0,0)\n",
      "6    Yellow  #FFFF00    rgb(100,100,0)\n",
      "7     Olive  #808000      rgb(50,50,0)\n",
      "8      Lime  #00FF00      rgb(0,100,0)\n",
      "9     Green  #008000       rgb(0,50,0)\n",
      "10     Aqua  #00FFFF    rgb(0,100,100)\n",
      "11     Teal  #008080      rgb(0,50,50)\n",
      "12     Blue  #0000FF      rgb(0,0,100)\n",
      "13     Navy  #000080       rgb(0,0,50)\n",
      "14  Fuchsia  #FF00FF    rgb(100,0,100)\n",
      "15   Purple  #800080      rgb(50,0,50)\n"
     ]
    }
   ],
   "source": [
    "df.fillna(130,inplace=True)\n",
    "print(df.to_string())"
   ]
  },
  {
   "cell_type": "code",
   "execution_count": null,
   "id": "85e604f3",
   "metadata": {},
   "outputs": [],
   "source": []
  },
  {
   "cell_type": "code",
   "execution_count": null,
   "id": "2908c48a",
   "metadata": {},
   "outputs": [],
   "source": []
  }
 ],
 "metadata": {
  "kernelspec": {
   "display_name": "Python 3 (ipykernel)",
   "language": "python",
   "name": "python3"
  },
  "language_info": {
   "codemirror_mode": {
    "name": "ipython",
    "version": 3
   },
   "file_extension": ".py",
   "mimetype": "text/x-python",
   "name": "python",
   "nbconvert_exporter": "python",
   "pygments_lexer": "ipython3",
   "version": "3.9.12"
  }
 },
 "nbformat": 4,
 "nbformat_minor": 5
}
